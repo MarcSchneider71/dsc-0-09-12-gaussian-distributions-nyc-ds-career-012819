{
 "cells": [
  {
   "cell_type": "markdown",
   "metadata": {},
   "source": [
    "# Normal/Gaussian Distribution\n",
    "\n",
    "## Introduction\n",
    "\n",
    "For data scientists and machine learning professionals, gaussian (or normal) distribution stands out as one of the most commonly used distribution model. This lesson provides an introduction to gaussian distribution, its characteristics and its significance towards data analytics. \n",
    "\n",
    "## Objectives\n",
    "You will be able to:\n",
    "\n",
    "* Understand the characteristics of a Gaussian Distribution\n",
    "* Identify examples in the real world that follow a Gaussian distribution\n",
    "* Explain why the Gaussian Distribution is so important to data scientists\n",
    "* How to generate and visualize normal distributions in Python"
   ]
  },
  {
   "cell_type": "markdown",
   "metadata": {},
   "source": [
    "## The normal distribution\n",
    "The normal distribution is the most important and most widely used distribution in statistics and analytics. It is also called the \"bell curve,\" due to its shape or the \"Gaussian curve\" after the mathematician Karl Friedrich Gauss. This shape results in plotting normally distributed data as a histogram. A smoothing function may be used to smooth the outer edges of distribution to achieve the said \"bell\" shape as shown below. "
   ]
  },
  {
   "cell_type": "markdown",
   "metadata": {},
   "source": [
    "![](bell.svg)"
   ]
  },
  {
   "cell_type": "markdown",
   "metadata": {},
   "source": [
    "Here is a first simple definition for normal distribution like shown above: \n",
    "\n",
    "> Normal distribution is symmetrical and its mean, median and mode are equal. \n",
    "\n",
    "## Measures of Center and Spread \n",
    "\n",
    "If you remember skewness, you would recognize there is no skew in a perfectly normal distribution.  It is **centered around its mean**.\n",
    "\n",
    "There could possibly be many normal distributions based on how they are defined. Normal distributions can differ in their means and in their standard deviations. \n",
    "\n",
    "<img src=\"3normal.png\" width = 400>"
   ]
  },
  {
   "cell_type": "markdown",
   "metadata": {},
   "source": [
    "The figure above shows four normal distributions. \n",
    "* The green distribution has a mean of -2 and a standard deviation of 0.5 \n",
    "* The distribution in blue has a mean of 0 and a standard deviation of 0.2.\n",
    "* The distribution in red has a mean of 0 and a standard deviation of 1. \n",
    "* The orange distribution has a mean 0 but a high spread with standard deviation 5.\n",
    "\n",
    "These as well as all other normal distributions are symmetric with relatively higher densities of values at the center of the distribution and relatively lower density in the tails. We can also show above normal distributions using cdf approach we saw earlier. Here is what above distributions would look like as a function of their cumulative probabilities. \n",
    "\n",
    "<img src=\"cdf.png\" width = 400>\n"
   ]
  },
  {
   "cell_type": "markdown",
   "metadata": {},
   "source": [
    "## Normal Density Function\n",
    "The density (number of values) of the normal distribution is reflected as the height for a given value on the x axis is shown below. A formula describing a normal distribution in terms of its tendencies of center and spread can be defined as:\n",
    "\n",
    "<img src = \"formula.jpg\" width=300>\n"
   ]
  },
  {
   "cell_type": "markdown",
   "metadata": {},
   "source": [
    "Do not worry if this expression confuses you at this stage. The key takeaway here is to understand that normal distributions can be defined, created, processed and visualized only using two parameters as shown above, mean and standard deviation (pi and e are the constants in this equation). \n",
    "\n",
    "## Normal Characteristics\n",
    "\n",
    "For now , we will identify normal distributions with following key characteristics. \n",
    "\n",
    "* Normal distributions are symmetric around their mean.\n",
    "* The mean, median, and mode of a normal distribution are equal.\n",
    "* The area under the bell curve is equal to 1.0.\n",
    "* Normal distributions are denser in the center and less dense in the tails.\n",
    "* Normal distributions are defined by two parameters, the mean (μ) and the standard deviation (σ).\n",
    "* Around 68% of the area of a normal distribution is within one standard deviation of the mean \n",
    "(μ - σ to μ + σ)\n",
    "* Approximately 95% of the area of a normal distribution is within two standard deviations of the mean ((μ - 2σ to μ + 2σ).\n",
    "\n",
    "Above characteristics can be better visualized with a slightly more detailed description below. Here the spread is differentiated between different levels of deviation. If a value is found in the red region, it is termed as \"within 1 standard deviation\". Blue and green regions and 2 and 3 standard deviation away from mean respectively.\n",
    "\n"
   ]
  },
  {
   "cell_type": "markdown",
   "metadata": {},
   "source": [
    "<img src=\"normalsd.jpg\" width = 700>\n"
   ]
  },
  {
   "cell_type": "markdown",
   "metadata": {},
   "source": [
    "This forms a 68-95-99.7 rule, i.e., 68% values of a normal distribution are within 1 standard deviation of mean, 95% within 2 standard deviations and 99.7 % within 3 standard deviations. So normally distributed data is considered ideal for analysis due to this simplicity of description. Values in the extreme of tails (3 sd+) can be considered \"interesting events\" as their probability of occurrence is less than usual. Or in some cases, you consider them as outliers due to noise or error of measurement. It all depends on your analysis question.  \n",
    "\n",
    "## Why so popular?\n",
    "\n",
    "Here are some more reasons why these are so popular among data scientists:"
   ]
  },
  {
   "cell_type": "markdown",
   "metadata": {},
   "source": [
    "### Ubiquitous in Natural Phenomena"
   ]
  },
  {
   "cell_type": "markdown",
   "metadata": {},
   "source": [
    "An amazingly vast number of natural processes naturally follows the Gaussian distribution. A simple normal distribution gives the best model approximation for natural processes like weight, height, blood pressure, IQ levels of human beings (key in social sciences). Errors committed during some measurements are also found to be naturally distributed so they can be modeled and isolated with ease. The income, expenditure and other social attributes of masses are normally distributed etc. \n",
    "\n",
    "<img src=\"smart.jpg\" width=400>\n"
   ]
  },
  {
   "cell_type": "markdown",
   "metadata": {},
   "source": [
    "### Central Limit Theorem\n",
    "\n",
    "Central limit theorem states: \n",
    ">When we add large number of independent random variables, irrespective of the original distribution of these variables, their normalized sum tends towards a Gaussian distribution.\n",
    "\n",
    "The theorem provides a reason why many natural phenomena follow Gaussian distribution.\n",
    "\n",
    "The key takeaway from central limit theorem is that fact that is allows different distributions to be processed as a normal distribution, even when they do not fulfill normality requirements shown above. We shall discuss this further when we talk about hypothesis testing \n",
    "\n",
    "[Here is an interesting youtube video highlighting this phenomenon](https://www.youtube.com/watch?v=AUSKTk9ENzg) for now. We will consider this in detail later. "
   ]
  },
  {
   "cell_type": "markdown",
   "metadata": {},
   "source": [
    "### Simplified Computation\n",
    "\n",
    "When undergoing transformations, a number of distributions tend to change their nature and may result as a totally new distribution. With normal distributions, we can add random variables, take their product or apply any other advanced transformations like Fourier and Convolution - the resulting distribution will always be normal. \n",
    "\n",
    "For every Gaussian model approximation, there may exist a complex multi-parameter distribution that gives better approximation. But still Gaussian is preferred because it makes the math a lot simpler!"
   ]
  },
  {
   "cell_type": "markdown",
   "metadata": {},
   "source": [
    "We shall explore normal distribution in great details through the course and how to define, process and visualize them in python. "
   ]
  },
  {
   "cell_type": "markdown",
   "metadata": {},
   "source": [
    "## Normal Distributions in Python "
   ]
  },
  {
   "cell_type": "markdown",
   "metadata": {},
   "source": [
    "In python, NumPy module provides a ton of methods to generate and inspect random variables. \n",
    "> The NumPy nickname for the normal distribution is **norm**. \n",
    "\n",
    "Here is how we can generate a random normal distribution by providing its parameters mu and sigma (mean and sd) to `np.random.norm()`, along with N (number of values to be generated for the normal distribution)."
   ]
  },
  {
   "cell_type": "code",
   "execution_count": 4,
   "metadata": {},
   "outputs": [
    {
     "name": "stderr",
     "output_type": "stream",
     "text": [
      "/opt/conda/envs/learn-env/lib/python3.6/site-packages/scipy/stats/stats.py:1713: FutureWarning: Using a non-tuple sequence for multidimensional indexing is deprecated; use `arr[tuple(seq)]` instead of `arr[seq]`. In the future this will be interpreted as an array index, `arr[np.array(seq)]`, which will result either in an error or a different result.\n",
      "  return np.add.reduce(sorted[indexer] * weights, axis=axis) / sumval\n"
     ]
    },
    {
     "data": {
      "image/png": "[encoded data removed]",
      "text/plain": [
       "<Figure size 432x288 with 1 Axes>"
      ]
     },
     "metadata": {
      "needs_background": "light"
     },
     "output_type": "display_data"
    }
   ],
   "source": [
    "import numpy as np\n",
    "import seaborn as sns\n",
    "\n",
    "mu, sigma = 0.5, 0.1\n",
    "N = 1000\n",
    "s = np.random.normal(mu, sigma, N)\n",
    "sns.distplot(s);"
   ]
  },
  {
   "cell_type": "markdown",
   "metadata": {},
   "source": [
    "The density function of a normal distribution can also be plotted using matplotlib line plot and using the formula given above. We shall try this in our lab next."
   ]
  },
  {
   "cell_type": "markdown",
   "metadata": {},
   "source": [
    "## Summary \n",
    "\n",
    "This lesson provides an introduction to normal distributions as the common distributions in the field of statistics and data analysis. We looked at the key characteristics of normal distributions, their density function based on mean and standard deviations and briefly discussed the reasons behind their ubiquitous nature. "
   ]
  }
 ],
 "metadata": {
  "kernelspec": {
   "display_name": "Python 3",
   "language": "python",
   "name": "python3"
  },
  "language_info": {
   "codemirror_mode": {
    "name": "ipython",
    "version": 3
   },
   "file_extension": ".py",
   "mimetype": "text/x-python",
   "name": "python",
   "nbconvert_exporter": "python",
   "pygments_lexer": "ipython3",
   "version": "3.6.6"
  }
 },
 "nbformat": 4,
 "nbformat_minor": 2
}
